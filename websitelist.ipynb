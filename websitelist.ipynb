{
 "cells": [
  {
   "cell_type": "code",
   "execution_count": null,
   "metadata": {},
   "outputs": [],
   "source": [
    "import requests\n",
    "from bs4 import BeautifulSoup\n",
    "\n",
    "url = \"https://theporndude.com/\"\n",
    "response = requests.get(url)\n",
    "\n",
    "urls = []\n",
    "if response.status_code == 200:\n",
    "    soup = BeautifulSoup(response.text, \"html.parser\")\n",
    "    for link in soup.find_all(\"a\"):\n",
    "        urls.append(link.get(\"href\"))\n",
    "else:\n",
    "    print(\"Error fetching URL:\", response.status_code)\n",
    "\n",
    "# print(urls)"
   ]
  },
  {
   "cell_type": "code",
   "execution_count": null,
   "metadata": {},
   "outputs": [],
   "source": [
    "json_objects = [\"\"\"{{\"url\" : \"{0}\", 'on' : true}}\"\"\".format(url) for url in urls]\n",
    "json_array = \"[\" + \", \\n\".join(json_objects) + \"]\"\n",
    "with open(\"websites.js\", \"w\") as f:\n",
    "    f.write(json_array)\n"
   ]
  },
  {
   "cell_type": "code",
   "execution_count": null,
   "metadata": {},
   "outputs": [],
   "source": [
    "import json\n",
    "with open('websites.js', 'r') as f:\n",
    "    # Read the contents of the file\n",
    "    file_contents = f.read()\n",
    "\n",
    "    # Remove any trailing semicolons to make the file contents valid JSON\n",
    "    file_contents = file_contents.rstrip(';')\n",
    "\n",
    "    # Remove any assignments to the \"var\" keyword to get the object\n",
    "    object_string = file_contents.split('=', 1)[1].lstrip()\n",
    "\n",
    "    # Parse the JavaScript object into a Python object\n",
    "    websites = json.loads(object_string)\n",
    "\n",
    "    # Print the object in JSON format\n",
    "    print(json.dumps(websites, indent=2))"
   ]
  }
 ],
 "metadata": {
  "kernelspec": {
   "display_name": "Python 3",
   "language": "python",
   "name": "python3"
  },
  "language_info": {
   "codemirror_mode": {
    "name": "ipython",
    "version": 3
   },
   "file_extension": ".py",
   "mimetype": "text/x-python",
   "name": "python",
   "nbconvert_exporter": "python",
   "pygments_lexer": "ipython3",
   "version": "3.10.9"
  },
  "orig_nbformat": 4,
  "vscode": {
   "interpreter": {
    "hash": "92cf26545d5e115a687b5873fc332da7fc829a409f22e9058433d3b34edeb4b1"
   }
  }
 },
 "nbformat": 4,
 "nbformat_minor": 2
}
